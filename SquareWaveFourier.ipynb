{
 "cells": [
  {
   "cell_type": "markdown",
   "id": "f94ef843",
   "metadata": {},
   "source": [
    "# Exempel 2.1 från \"Signalbehandling och kommunikationssystem\""
   ]
  },
  {
   "cell_type": "code",
   "execution_count": null,
   "id": "bd32246a",
   "metadata": {},
   "outputs": [],
   "source": [
    "import matplotlib.pyplot as plt\n",
    "import numpy as np\n",
    "%matplotlib inline"
   ]
  },
  {
   "cell_type": "code",
   "execution_count": null,
   "id": "c7d2ec74",
   "metadata": {},
   "outputs": [],
   "source": [
    "def Bn(n,amp):\n",
    "    fkoeff = (4*amp)/(n*np.pi)\n",
    "    return fkoeff"
   ]
  },
  {
   "cell_type": "code",
   "execution_count": null,
   "id": "522d7963",
   "metadata": {},
   "outputs": [],
   "source": [
    "def abs_Hjw(f):\n",
    "    '''\n",
    "    Överföringsfunktion för LP filter med 8.2kΩ och 10nF\n",
    "    '''\n",
    "    return 1/((1+(2*np.pi*f*8200*(10**-8))**2)**0.5)"
   ]
  },
  {
   "cell_type": "code",
   "execution_count": null,
   "id": "a53008fd",
   "metadata": {},
   "outputs": [],
   "source": [
    "def arg_Hjw(f):\n",
    "    return -np.arctan(2*np.pi*f*8200*(10**-8))"
   ]
  },
  {
   "cell_type": "code",
   "execution_count": null,
   "id": "5e445861",
   "metadata": {},
   "outputs": [],
   "source": [
    "t = np.arange(0,5,0.001)   # start,stop,step för horisontal axel"
   ]
  },
  {
   "cell_type": "code",
   "execution_count": null,
   "id": "e9cb6407",
   "metadata": {},
   "outputs": [],
   "source": [
    "y_n = []"
   ]
  },
  {
   "cell_type": "code",
   "execution_count": null,
   "id": "0cb77c93",
   "metadata": {},
   "outputs": [],
   "source": [
    "b = []\n",
    "for i in range(1,31,1):\n",
    "    if (i+1)%2 == 0:\n",
    "        b.append(Bn(n=i,amp=10))\n",
    "    else:\n",
    "        b.append(0)"
   ]
  },
  {
   "cell_type": "code",
   "execution_count": null,
   "id": "ccfed693",
   "metadata": {},
   "outputs": [],
   "source": [
    "b"
   ]
  },
  {
   "cell_type": "markdown",
   "id": "82bf39bc",
   "metadata": {},
   "source": [
    "## Beräkna grundton och plotta"
   ]
  },
  {
   "cell_type": "code",
   "execution_count": null,
   "id": "ef14c14c",
   "metadata": {},
   "outputs": [],
   "source": [
    "y_n.append(b[0]*np.sin(1*2*np.pi*t))\n",
    "plt.plot(y_n[0])\n",
    "plt.show"
   ]
  },
  {
   "cell_type": "markdown",
   "id": "e393a87c",
   "metadata": {},
   "source": [
    "## Beräkna övertoner och plotta"
   ]
  },
  {
   "cell_type": "code",
   "execution_count": null,
   "id": "d0e40a2a",
   "metadata": {},
   "outputs": [],
   "source": [
    "y_n.append(b[2]*np.sin(3*2*np.pi*t))\n",
    "plt.plot(y_n[1])\n",
    "plt.show"
   ]
  },
  {
   "cell_type": "code",
   "execution_count": null,
   "id": "8742176d",
   "metadata": {},
   "outputs": [],
   "source": [
    "y_n.append(b[4]*np.sin(5*2*np.pi*t))\n",
    "plt.plot(y_n[2])\n",
    "plt.show"
   ]
  },
  {
   "cell_type": "code",
   "execution_count": null,
   "id": "96f2ccd2",
   "metadata": {},
   "outputs": [],
   "source": [
    "y_n.append(b[6]*np.sin(7*2*np.pi*t))\n",
    "plt.plot(y_n[3])\n",
    "plt.show"
   ]
  },
  {
   "cell_type": "code",
   "execution_count": null,
   "id": "dfff92da",
   "metadata": {},
   "outputs": [],
   "source": [
    "y_n.append(b[8]*np.sin(9*2*np.pi*t))\n",
    "plt.plot(y_n[4])\n",
    "plt.show"
   ]
  },
  {
   "cell_type": "markdown",
   "id": "ef51fd72",
   "metadata": {},
   "source": [
    "## Addera grundton och övertoner och plotta, vad blev det för vågform?"
   ]
  },
  {
   "cell_type": "code",
   "execution_count": null,
   "id": "9f535e9e",
   "metadata": {},
   "outputs": [],
   "source": [
    "plt.plot(y_n[0]+y_n[1]+y_n[2]+y_n[3]+y_n[4])\n",
    "plt.show"
   ]
  },
  {
   "cell_type": "code",
   "execution_count": null,
   "id": "5a370f3f",
   "metadata": {},
   "outputs": [],
   "source": [
    "y_n = []\n",
    "for n,i in enumerate(range(1,31,1)):\n",
    "    y_n.append(b[n]*np.sin(i*2*np.pi*t))\n",
    "    print(f'{n},{i},{b[n]}')\n",
    "\n",
    "ytot = y_n.pop(0)\n",
    "for i in y_n:\n",
    "    ytot = ytot + i\n",
    "plt.plot(ytot)\n",
    "plt.show()"
   ]
  },
  {
   "cell_type": "code",
   "execution_count": null,
   "id": "35346d1b",
   "metadata": {},
   "outputs": [],
   "source": [
    "y_n = []\n",
    "for n,i in enumerate(range(1,31,1)):\n",
    "    y_n.append(abs_Hjw(i*1000)*b[n]*np.sin(i*2*np.pi*t+arg_Hjw(i*1000)))\n",
    "    print(f'{n},{i}')\n",
    "\n",
    "ytot = y_n.pop(0)\n",
    "for i in y_n:\n",
    "    ytot = ytot + i\n",
    "plt.plot(ytot)\n",
    "plt.show()"
   ]
  }
 ],
 "metadata": {
  "kernelspec": {
   "display_name": "Python 3 (ipykernel)",
   "language": "python",
   "name": "python3"
  },
  "language_info": {
   "codemirror_mode": {
    "name": "ipython",
    "version": 3
   },
   "file_extension": ".py",
   "mimetype": "text/x-python",
   "name": "python",
   "nbconvert_exporter": "python",
   "pygments_lexer": "ipython3",
   "version": "3.9.10"
  }
 },
 "nbformat": 4,
 "nbformat_minor": 5
}
