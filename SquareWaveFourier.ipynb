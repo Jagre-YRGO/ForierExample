{
 "cells": [
  {
   "cell_type": "code",
   "execution_count": 1,
   "id": "2d586c8c",
   "metadata": {},
   "outputs": [],
   "source": [
    "import matplotlib.pyplot as plt\n",
    "import numpy as np\n",
    "%matplotlib inline"
   ]
  },
  {
   "cell_type": "code",
   "execution_count": 2,
   "id": "5e445861",
   "metadata": {},
   "outputs": [],
   "source": [
    "t = np.arange(0,1,0.01)   # start,stop,step\n"
   ]
  },
  {
   "cell_type": "code",
   "execution_count": 3,
   "id": "9113bf57",
   "metadata": {},
   "outputs": [],
   "source": [
    "b = []"
   ]
  },
  {
   "cell_type": "code",
   "execution_count": 4,
   "id": "757e02cb",
   "metadata": {},
   "outputs": [
    {
     "name": "stdout",
     "output_type": "stream",
     "text": [
      "1\n",
      "2\n",
      "3\n",
      "4\n",
      "5\n",
      "6\n",
      "7\n",
      "8\n",
      "9\n"
     ]
    }
   ],
   "source": [
    "for n in range(1,10):\n",
    "    b.append((1/(n*np.pi))*(1- np.cos(n*np.pi)))\n",
    "    print(n)\n"
   ]
  },
  {
   "cell_type": "code",
   "execution_count": 5,
   "id": "cf8c2d64",
   "metadata": {},
   "outputs": [
    {
     "data": {
      "text/plain": [
       "[0.6366197723675814,\n",
       " 0.0,\n",
       " 0.2122065907891938,\n",
       " 0.0,\n",
       " 0.12732395447351627,\n",
       " 0.0,\n",
       " 0.09094568176679733,\n",
       " 0.0,\n",
       " 0.0707355302630646]"
      ]
     },
     "execution_count": 5,
     "metadata": {},
     "output_type": "execute_result"
    }
   ],
   "source": [
    "b"
   ]
  },
  {
   "cell_type": "code",
   "execution_count": 6,
   "id": "e9cb6407",
   "metadata": {},
   "outputs": [],
   "source": [
    "y_n = []"
   ]
  },
  {
   "cell_type": "code",
   "execution_count": 7,
   "id": "ef14c14c",
   "metadata": {},
   "outputs": [],
   "source": [
    "y_n.append(b[0]*np.sin(1*2*np.pi*t))"
   ]
  },
  {
   "cell_type": "code",
   "execution_count": 8,
   "id": "d0e40a2a",
   "metadata": {},
   "outputs": [],
   "source": [
    "y_n.append(b[2]*np.sin(3*2*np.pi*t))"
   ]
  },
  {
   "cell_type": "code",
   "execution_count": 9,
   "id": "8742176d",
   "metadata": {},
   "outputs": [],
   "source": [
    "y_n.append(b[4]*np.sin(5*2*np.pi*t))"
   ]
  },
  {
   "cell_type": "code",
   "execution_count": 10,
   "id": "96f2ccd2",
   "metadata": {},
   "outputs": [],
   "source": [
    "y_n.append(b[6]*np.sin(7*2*np.pi*t))"
   ]
  },
  {
   "cell_type": "code",
   "execution_count": 11,
   "id": "dfff92da",
   "metadata": {},
   "outputs": [],
   "source": [
    "y_n.append(b[8]*np.sin(9*2*np.pi*t))"
   ]
  },
  {
   "cell_type": "code",
   "execution_count": 12,
   "id": "9f535e9e",
   "metadata": {},
   "outputs": [
    {
     "data": {
      "text/plain": [
       "<function matplotlib.pyplot.show(close=None, block=None)>"
      ]
     },
     "execution_count": 12,
     "metadata": {},
     "output_type": "execute_result"
    },
    {
     "data": {
      "image/png": "[encoded data removed]",
      "text/plain": [
       "<Figure size 432x288 with 1 Axes>"
      ]
     },
     "metadata": {
      "needs_background": "light"
     },
     "output_type": "display_data"
    }
   ],
   "source": [
    "plt.plot(y_n[0]+y_n[1]+y_n[2]+y_n[3]+y_n[4])\n",
    "plt.show"
   ]
  }
 ],
 "metadata": {
  "kernelspec": {
   "display_name": "Python 3 (ipykernel)",
   "language": "python",
   "name": "python3"
  },
  "language_info": {
   "codemirror_mode": {
    "name": "ipython",
    "version": 3
   },
   "file_extension": ".py",
   "mimetype": "text/x-python",
   "name": "python",
   "nbconvert_exporter": "python",
   "pygments_lexer": "ipython3",
   "version": "3.9.10"
  }
 },
 "nbformat": 4,
 "nbformat_minor": 5
}
